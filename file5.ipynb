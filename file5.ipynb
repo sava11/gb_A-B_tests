{
 "cells": [
  {
   "cell_type": "markdown",
   "metadata": {},
   "source": [
    "# Задание 1\n",
    "\n",
    "Продакт на главной mail.ru решил протестировать в рекомендательной ленте контента вместо карточек со статьями видеоплеер с короткими видео.\n",
    "\n",
    "Нынешний таймспент на юзера в день в среднем равен 25 минут, а стандартная ошибка (SD) равна 156.\n",
    "\n",
    "Мы предполагаем, что в новой версии таймспент на юзера в день изменится на 10%.\n",
    "\n",
    "Средний трафик 20000 человек в день.\n",
    "\n",
    "Посчитайте сколько дней необходимо держать эксперимент при alpha = 5% и beta = 20% ."
   ]
  },
  {
   "cell_type": "code",
   "execution_count": 37,
   "metadata": {},
   "outputs": [],
   "source": [
    "import numpy as np\n",
    "from scipy.stats import norm"
   ]
  },
  {
   "cell_type": "code",
   "execution_count": 38,
   "metadata": {},
   "outputs": [],
   "source": [
    "n = 20000  # среднее количество юзеров в день\n",
    "sd = 156  # стандартная ошибка\n",
    "alpha = 0.05  # уровень значимости\n",
    "beta = 0.2  # вероятность ошибки второго рода\n",
    "prop_diff = 0.1  # относительное изменение таймспента"
   ]
  },
  {
   "cell_type": "code",
   "execution_count": 39,
   "metadata": {},
   "outputs": [],
   "source": [
    "se = sd / np.sqrt(n)  # стандартная ошибка среднего\n",
    "m = se * norm.ppf(1 - alpha/2)  # граница для доверительного интервала\n",
    "delta = prop_diff * n  # абсолютное изменение таймспента"
   ]
  },
  {
   "cell_type": "code",
   "execution_count": 40,
   "metadata": {},
   "outputs": [],
   "source": [
    "z_alpha = norm.ppf(1 - alpha)  \n",
    "z_beta = norm.ppf(1 - beta) "
   ]
  },
  {
   "cell_type": "code",
   "execution_count": 41,
   "metadata": {},
   "outputs": [],
   "source": [
    "n_1 = (z_alpha*m + z_beta*sd/delta)**2\n",
    "n_2 = (z_alpha*m - z_beta*sd/delta)**2\n",
    "n_round = np.ceil(max(n_1, n_2))\n",
    "days = np.ceil(n_round/n)  # количество дней"
   ]
  },
  {
   "cell_type": "code",
   "execution_count": 42,
   "metadata": {},
   "outputs": [
    {
     "name": "stdout",
     "output_type": "stream",
     "text": [
      "Необходимо собрать данные в течении 1 дней\n"
     ]
    }
   ],
   "source": [
    "print(f\"Необходимо собрать данные в течении {int(days)} дней\")"
   ]
  },
  {
   "cell_type": "markdown",
   "metadata": {},
   "source": [
    "# Задание 2\n",
    "\n",
    "Наша продуктовая команда в ecommerce магазине планирует запустить тест, направленный на ускорение загрузки сайта.\n",
    "\n",
    "Одна из основных метрик bounce rate в GA = 40%.\n",
    "\n",
    "Мы предполагаем, что при оптимизации сайта она изменится минимум на 20%.\n",
    "\n",
    "Средний трафик 4000 человек в день. Посчитайте сколько нам нужно дней держать эксперимент при alpha = 5% и beta = 20%"
   ]
  },
  {
   "cell_type": "code",
   "execution_count": 43,
   "metadata": {},
   "outputs": [],
   "source": [
    "from math import sqrt,ceil\n",
    "mean1=0.4\n",
    "mean2=-0.2\n",
    "alpha=0.05\n",
    "beta=0.2\n",
    "power=0.8\n",
    "baseline=0.4"
   ]
  },
  {
   "cell_type": "code",
   "execution_count": 44,
   "metadata": {},
   "outputs": [],
   "source": [
    "z_alpha = norm.ppf(1 - alpha / 2)\n",
    "z_beta = norm.ppf(power)"
   ]
  },
  {
   "cell_type": "code",
   "execution_count": 45,
   "metadata": {},
   "outputs": [
    {
     "name": "stdout",
     "output_type": "stream",
     "text": [
      "в течении 6 полных дней нам нужно держать эксперимент при alpha = 5% и beta = 20%\n"
     ]
    }
   ],
   "source": [
    "std1 = sqrt(baseline * (1 - baseline))\n",
    "std2 = std1 * sqrt((baseline - mean2) ** 2 / (mean1 - mean2) ** 2)\n",
    "\n",
    "exit_value=ceil(((std1 * z_alpha + std2 * z_beta) / (mean1 - mean2)) ** 2)\n",
    "print(\"в течении\",exit_value,\"полных дней нам нужно держать эксперимент при alpha = 5% и beta = 20%\")"
   ]
  }
 ],
 "metadata": {
  "kernelspec": {
   "display_name": "Python 3",
   "language": "python",
   "name": "python3"
  },
  "language_info": {
   "codemirror_mode": {
    "name": "ipython",
    "version": 3
   },
   "file_extension": ".py",
   "mimetype": "text/x-python",
   "name": "python",
   "nbconvert_exporter": "python",
   "pygments_lexer": "ipython3",
   "version": "3.10.0"
  },
  "orig_nbformat": 4
 },
 "nbformat": 4,
 "nbformat_minor": 2
}
